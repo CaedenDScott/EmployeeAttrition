{
 "cells": [
  {
   "cell_type": "code",
   "execution_count": 83,
   "id": "5319af22",
   "metadata": {},
   "outputs": [],
   "source": [
    "import pandas as pd\n",
    "import numpy as np\n",
    "from sklearn.model_selection import train_test_split\n",
    "data = pd.read_csv('HR-Employee-Attrition.csv')\n",
    "\n",
    "data_classification = data[['Attrition']]\n",
    "data_values = data.loc[:, data.columns != \"Attrition\"]\n",
    "data_train, data_test, labels_train, labels_test = train_test_split(data_values, data_classification, test_size=0.2, random_state=35)\n",
    "stratify=data_classification"
   ]
  },
  {
   "cell_type": "code",
   "execution_count": 84,
   "id": "fa621900",
   "metadata": {},
   "outputs": [],
   "source": [
    "# Data Cleaning\n",
    "\n",
    "#1 Convert text data to numerical\n",
    "\n",
    "from sklearn.preprocessing import LabelEncoder\n",
    "\n",
    "encoder = LabelEncoder() # since all the non-numerical features are categorical, it should be safe to use label encoding\n",
    "\n",
    "labels_train['Attrition'] = encoder.fit_transform(labels_train['Attrition'])\n",
    "labels_test['Attrition'] = encoder.transform(labels_test['Attrition']) # don't fit encoder with testing labels, but transform testing labels with same fitted encoder\n",
    "\n",
    "features_to_encode = ['BusinessTravel', 'Department', 'EducationField', 'Gender', 'JobRole', 'MaritalStatus', 'Over18', 'OverTime']\n",
    "for feature in features_to_encode:\n",
    "    data_train[feature] = encoder.fit_transform(data_train[feature])\n",
    "    data_test[feature] = encoder.transform(data_test[feature]) # don't fit encoder with testing data, but transform testing data with same fitted encoder"
   ]
  },
  {
   "cell_type": "code",
   "execution_count": 85,
   "id": "0a7b1105",
   "metadata": {},
   "outputs": [],
   "source": [
    "#2 Feature Selection\n",
    "\n",
    "from sklearn.feature_selection import SelectKBest, chi2\n",
    "\n",
    "feature_selector = SelectKBest(chi2, k=20) # drop the 4 features that have the lowest correlation with the answer\n",
    "data_train_selected = feature_selector.fit_transform(data_train, labels_train)\n",
    "data_test_selected = feature_selector.transform(data_test)\n"
   ]
  },
  {
   "cell_type": "code",
   "execution_count": 86,
   "id": "b7cf0d54",
   "metadata": {},
   "outputs": [],
   "source": [
    "#3 Normalize\n",
    "\n",
    "from sklearn.preprocessing import StandardScaler\n",
    "\n",
    "normalize_scaler = StandardScaler() \n",
    "# data_normalized = normalize_scaler.fit_transform(data_values_selected, np.ravel(data_classification))\n",
    "data_train_clean = normalize_scaler.fit_transform(data_train_selected, labels_train)\n",
    "data_test_clean = normalize_scaler.transform(data_test_selected)"
   ]
  },
  {
   "cell_type": "code",
   "execution_count": null,
   "id": "1ff2fed4",
   "metadata": {},
   "outputs": [],
   "source": []
  },
  {
   "cell_type": "code",
   "execution_count": 87,
   "id": "de877a23",
   "metadata": {},
   "outputs": [],
   "source": [
    "# Model Training\n",
    "# Note: Most of this model training/evaluation code was adapted from another lab"
   ]
  },
  {
   "cell_type": "code",
   "execution_count": 88,
   "id": "6d0a2968",
   "metadata": {
    "scrolled": true
   },
   "outputs": [
    {
     "name": "stdout",
     "output_type": "stream",
     "text": [
      "              precision    recall  f1-score   support\n",
      "\n",
      "          no       0.90      0.95      0.93       256\n",
      "         yes       0.48      0.29      0.36        38\n",
      "\n",
      "    accuracy                           0.87       294\n",
      "   macro avg       0.69      0.62      0.64       294\n",
      "weighted avg       0.85      0.87      0.85       294\n",
      "\n"
     ]
    }
   ],
   "source": [
    "#2 K Nearnest Neighbors\n",
    "from sklearn.neighbors import KNeighborsClassifier\n",
    "\n",
    "neigh = KNeighborsClassifier(n_neighbors=3)\n",
    "neigh.fit(data_train_clean, np.ravel(labels_train))\n",
    "\n",
    "from sklearn.metrics import classification_report\n",
    "\n",
    "neighPred = neigh.predict(data_test_clean)\n",
    "neighPred = list(neighPred)\n",
    "\n",
    "target_names = [\"no\", \"yes\"]\n",
    "\n",
    "print(classification_report(labels_test, neighPred, target_names=target_names))"
   ]
  },
  {
   "cell_type": "code",
   "execution_count": 89,
   "id": "8287120f",
   "metadata": {},
   "outputs": [
    {
     "name": "stdout",
     "output_type": "stream",
     "text": [
      "              precision    recall  f1-score   support\n",
      "\n",
      "          no       0.90      0.91      0.90       256\n",
      "         yes       0.35      0.34      0.35        38\n",
      "\n",
      "    accuracy                           0.83       294\n",
      "   macro avg       0.63      0.62      0.63       294\n",
      "weighted avg       0.83      0.83      0.83       294\n",
      "\n"
     ]
    }
   ],
   "source": [
    "#3 Decision Tree\n",
    "\n",
    "from sklearn import tree\n",
    "\n",
    "dt_classifier = tree.DecisionTreeClassifier()\n",
    "dt_model = dt_classifier.fit(data_train_clean, labels_train)\n",
    "\n",
    "from sklearn.metrics import classification_report\n",
    "\n",
    "target_names = [\"no\", \"yes\"]\n",
    "predicted_labels_dt = dt_model.predict(data_test_clean)\n",
    "print(classification_report(labels_test, predicted_labels_dt, target_names=target_names))"
   ]
  },
  {
   "cell_type": "code",
   "execution_count": 90,
   "id": "713e5a46",
   "metadata": {},
   "outputs": [
    {
     "name": "stdout",
     "output_type": "stream",
     "text": [
      "              precision    recall  f1-score   support\n",
      "\n",
      "          no       0.92      0.95      0.93       256\n",
      "         yes       0.57      0.42      0.48        38\n",
      "\n",
      "    accuracy                           0.88       294\n",
      "   macro avg       0.74      0.69      0.71       294\n",
      "weighted avg       0.87      0.88      0.88       294\n",
      "\n"
     ]
    }
   ],
   "source": [
    "#4 Linear Regression\n",
    "from sklearn.linear_model import LogisticRegression\n",
    "\n",
    "lr_classifier = LogisticRegression(random_state=39, max_iter=1000)\n",
    "lr_model = lr_classifier.fit(data_train_clean, np.ravel(labels_train))\n",
    "\n",
    "from sklearn.metrics import classification_report \n",
    "\n",
    "target_names = [\"no\", \"yes\"]\n",
    "predicted_labels_lr = lr_model.predict(data_test_clean) \n",
    "print(classification_report(labels_test, predicted_labels_lr, target_names=target_names))"
   ]
  },
  {
   "cell_type": "code",
   "execution_count": 91,
   "id": "113ab3f0",
   "metadata": {},
   "outputs": [
    {
     "name": "stdout",
     "output_type": "stream",
     "text": [
      "              precision    recall  f1-score   support\n",
      "\n",
      "          no       0.90      0.98      0.94       256\n",
      "         yes       0.62      0.26      0.37        38\n",
      "\n",
      "    accuracy                           0.88       294\n",
      "   macro avg       0.76      0.62      0.65       294\n",
      "weighted avg       0.86      0.88      0.86       294\n",
      "\n"
     ]
    }
   ],
   "source": [
    "#5 Support Vector Machines\n",
    "from sklearn.svm import SVC \n",
    "\n",
    "svc_classifier = SVC()\n",
    "svc_model = svc_classifier.fit(data_train_clean, np.ravel(labels_train))\n",
    "\n",
    "from sklearn.metrics import classification_report \n",
    "\n",
    "target_names = [\"no\", \"yes\"]\n",
    "predicted_labels_svc = svc_model.predict(data_test_clean) \n",
    "print(classification_report(labels_test, predicted_labels_svc, target_names=target_names))"
   ]
  },
  {
   "cell_type": "code",
   "execution_count": 92,
   "id": "376bf72c",
   "metadata": {},
   "outputs": [
    {
     "name": "stdout",
     "output_type": "stream",
     "text": [
      "              precision    recall  f1-score   support\n",
      "\n",
      "          no       0.92      0.94      0.93       256\n",
      "         yes       0.55      0.47      0.51        38\n",
      "\n",
      "    accuracy                           0.88       294\n",
      "   macro avg       0.73      0.71      0.72       294\n",
      "weighted avg       0.87      0.88      0.88       294\n",
      "\n"
     ]
    }
   ],
   "source": [
    "#6 Artificial Neural Networks\n",
    "from sklearn.neural_network import MLPClassifier \n",
    "import numpy as np\n",
    "\n",
    "mlp_classifier = MLPClassifier(random_state=39, activation='tanh', max_iter=700) # with 30 features use 500\n",
    "mlp_model = mlp_classifier.fit(data_train_clean, np.ravel(labels_train))\n",
    "\n",
    "from sklearn.metrics import classification_report\n",
    "\n",
    "target_names = [\"no\", \"yes\"]\n",
    "predicted_labels_mlp = mlp_model.predict(data_test_clean)\n",
    "print(classification_report(labels_test, predicted_labels_mlp, target_names=target_names))"
   ]
  }
 ],
 "metadata": {
  "kernelspec": {
   "display_name": "Python 3 (ipykernel)",
   "language": "python",
   "name": "python3"
  },
  "language_info": {
   "codemirror_mode": {
    "name": "ipython",
    "version": 3
   },
   "file_extension": ".py",
   "mimetype": "text/x-python",
   "name": "python",
   "nbconvert_exporter": "python",
   "pygments_lexer": "ipython3",
   "version": "3.11.4"
  }
 },
 "nbformat": 4,
 "nbformat_minor": 5
}
