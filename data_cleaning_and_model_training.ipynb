{
 "cells": [
  {
   "cell_type": "code",
   "execution_count": 132,
   "id": "fa621900",
   "metadata": {},
   "outputs": [],
   "source": [
    "import pandas as pd\n",
    "import numpy as np\n",
    "from sklearn.model_selection import train_test_split\n",
    "data = pd.read_csv('HR-Employee-Attrition.csv')\n",
    "\n",
    "data_classification = data[['Attrition']]\n",
    "data_values = data.loc[:, data.columns != \"Attrition\"]\n",
    "data_train, data_test, labels_train, labels_test = train_test_split(data_values, data_classification, test_size=0.2, random_state=35)\n",
    "# print(f\"{data_train.shape} {data_test.shape}, {labels_train.shape}, {labels_test.shape}\")"
   ]
  },
  {
   "cell_type": "code",
   "execution_count": 134,
   "id": "0a7b1105",
   "metadata": {},
   "outputs": [],
   "source": [
    "# Data Cleaning\n",
    "\n",
    "#1 Convert text data to numerical\n",
    "\n",
    "from sklearn.preprocessing import LabelEncoder\n",
    "\n",
    "encoder = LabelEncoder() # since all the non-numerical features are categorical, it should be safe to use label encoding\n",
    "\n",
    "labels_train['Attrition'] = encoder.fit_transform(labels_train['Attrition'])\n",
    "labels_test['Attrition'] = encoder.transform(labels_test['Attrition']) # don't fit encoder with testing labels, but transform testing labels with same fitted encoder\n",
    "\n",
    "features_to_encode = ['BusinessTravel', 'Department', 'EducationField', 'Gender', 'JobRole', 'MaritalStatus', 'Over18', 'OverTime']\n",
    "for feature in features_to_encode:\n",
    "#     data[feature] = encoder.fit_transform(data[feature])\n",
    "    data_train[feature] = encoder.fit_transform(data_train[feature])\n",
    "    data_test[feature] = encoder.transform(data_test[feature]) # don't fit encoder with testing data, but transform testing data with same fitted encoder"
   ]
  },
  {
   "cell_type": "code",
   "execution_count": 139,
   "id": "66c6caec",
   "metadata": {},
   "outputs": [
    {
     "name": "stdout",
     "output_type": "stream",
     "text": [
      "(1176, 34) (1176, 30)\n",
      "(1176, 34) (1176, 30)\n"
     ]
    }
   ],
   "source": [
    "#2 Feature Selection\n",
    "\n",
    "from sklearn.feature_selection import SelectKBest, chi2\n",
    "\n",
    "feature_selector = SelectKBest(chi2, k=30) # drop the 4 features that have the lowest correlation with the answer\n",
    "data_train_selected = feature_selector.fit_transform(data_train, labels_train)\n",
    "data_test_selected = feature_selector.transform(data_test)"
   ]
  },
  {
   "cell_type": "code",
   "execution_count": 142,
   "id": "b7cf0d54",
   "metadata": {},
   "outputs": [],
   "source": [
    "#3 Normalize\n",
    "\n",
    "from sklearn.preprocessing import StandardScaler\n",
    "\n",
    "normalize_scaler = StandardScaler() \n",
    "# data_normalized = normalize_scaler.fit_transform(data_values_selected, np.ravel(data_classification))\n",
    "data_train_clean = normalize_scaler.fit_transform(data_train_selected, labels_train)\n",
    "data_test_clean = normalize_scaler.transform(data_test_selected)\n",
    "\n",
    "# use in model fitting: data_train_clean, data_test_clean, labels_train, labels_test\n"
   ]
  },
  {
   "cell_type": "code",
   "execution_count": null,
   "id": "1ff2fed4",
   "metadata": {},
   "outputs": [],
   "source": [
    "#4 Extra Credit?: graphing"
   ]
  },
  {
   "cell_type": "code",
   "execution_count": null,
   "id": "a9be681b",
   "metadata": {},
   "outputs": [],
   "source": []
  },
  {
   "cell_type": "code",
   "execution_count": null,
   "id": "3e980918",
   "metadata": {},
   "outputs": [],
   "source": []
  },
  {
   "cell_type": "code",
   "execution_count": 13,
   "id": "de877a23",
   "metadata": {},
   "outputs": [],
   "source": [
    "# Model Training"
   ]
  },
  {
   "cell_type": "code",
   "execution_count": 14,
   "id": "c63ae1d6",
   "metadata": {},
   "outputs": [],
   "source": [
    "#1 Split the data (stratify too)"
   ]
  },
  {
   "cell_type": "code",
   "execution_count": 15,
   "id": "6d0a2968",
   "metadata": {},
   "outputs": [],
   "source": [
    "#2 K Nearnest Neighbors"
   ]
  },
  {
   "cell_type": "code",
   "execution_count": 16,
   "id": "8287120f",
   "metadata": {},
   "outputs": [],
   "source": [
    "#3 Decision Tree"
   ]
  },
  {
   "cell_type": "code",
   "execution_count": 17,
   "id": "713e5a46",
   "metadata": {},
   "outputs": [],
   "source": [
    "#4 Linear Regression"
   ]
  },
  {
   "cell_type": "code",
   "execution_count": 18,
   "id": "113ab3f0",
   "metadata": {},
   "outputs": [],
   "source": [
    "#5 Support Vector Machines"
   ]
  },
  {
   "cell_type": "code",
   "execution_count": 19,
   "id": "376bf72c",
   "metadata": {},
   "outputs": [],
   "source": [
    "#6 Artificial Neural Networks"
   ]
  },
  {
   "cell_type": "code",
   "execution_count": null,
   "id": "279f317e",
   "metadata": {},
   "outputs": [],
   "source": [
    "#TODO: \n",
    "    # comment out the normalize section and see how the neural network score changes.\n",
    "    # don't want to do cleaning like feaure selection and normalization on the data before splitting it into testing and training.\n",
    "        # instead, put all the cleaning into a function and pass the split training and test data into it so that each one is \n",
    "        # cleaned individually instead of together.  Put a comment to note that you're doing this\n",
    "        #all you need is the split data, then pass it into the function so that it returns numerical, feature-selected, \n",
    "        # HOWEVER, use the same StandardScaler() and SelectKBest() object (maybe even the same LabelEncoder()) as stated by https://www.edwinwenink.xyz/posts/61-feature_preprocessing_and_train_test_leakage/\n",
    "    # remove commented code\n",
    "        "
   ]
  }
 ],
 "metadata": {
  "kernelspec": {
   "display_name": "Python 3 (ipykernel)",
   "language": "python",
   "name": "python3"
  },
  "language_info": {
   "codemirror_mode": {
    "name": "ipython",
    "version": 3
   },
   "file_extension": ".py",
   "mimetype": "text/x-python",
   "name": "python",
   "nbconvert_exporter": "python",
   "pygments_lexer": "ipython3",
   "version": "3.11.4"
  }
 },
 "nbformat": 4,
 "nbformat_minor": 5
}
