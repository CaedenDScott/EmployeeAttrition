{
 "cells": [
  {
   "cell_type": "code",
   "execution_count": 36,
   "id": "fa621900",
   "metadata": {},
   "outputs": [],
   "source": [
    "# Data Cleaning\n",
    "\n",
    "import pandas as pd\n",
    "import numpy as np\n",
    "data = pd.read_csv('HR-Employee-Attrition.csv')\n",
    "# print(data_raw)"
   ]
  },
  {
   "cell_type": "code",
   "execution_count": 47,
   "id": "0a7b1105",
   "metadata": {},
   "outputs": [],
   "source": [
    "#1 Convert text data to numerical (sklearn’s preprocessing module, use LabelEncoder() like in U6S4)\n",
    "    # adapted from documentation: https://saturncloud.io/blog/how-to-convert-text-columns-into-numbers-in-scikitlearn/\n",
    "from sklearn.preprocessing import LabelEncoder\n",
    "\n",
    "encoder = LabelEncoder()\n",
    "features_to_encode = ['Attrition', 'BusinessTravel', 'Department', 'EducationField', 'Gender', 'JobRole', 'MaritalStatus', 'Over18', 'OverTime']\n",
    "for feature in features_to_encode:\n",
    "    data[feature] = encoder.fit_transform(data[feature])\n"
   ]
  },
  {
   "cell_type": "code",
   "execution_count": null,
   "id": "66c6caec",
   "metadata": {},
   "outputs": [],
   "source": [
    "#2 Feature Selection\n",
    "    # Use Chi-squared or some other method to find columns that are irrelevant and just generate noise\n",
    "    # Boruta makes it easy to use filtering, use BorutaPy (\"now part of scikit-learn-contrib\"): https://neptune.ai/blog/feature-selection-methods\n",
    "        # for implementation: https://towardsdatascience.com/feature-selection-with-boruta-in-python-676e3877e596 "
   ]
  },
  {
   "cell_type": "code",
   "execution_count": null,
   "id": "b7cf0d54",
   "metadata": {},
   "outputs": [],
   "source": [
    "#3 Normalize"
   ]
  },
  {
   "cell_type": "code",
   "execution_count": null,
   "id": "1ff2fed4",
   "metadata": {},
   "outputs": [],
   "source": [
    "#4 Extra Credit?: graphing"
   ]
  },
  {
   "cell_type": "code",
   "execution_count": null,
   "id": "a9be681b",
   "metadata": {},
   "outputs": [],
   "source": []
  },
  {
   "cell_type": "code",
   "execution_count": null,
   "id": "3e980918",
   "metadata": {},
   "outputs": [],
   "source": []
  },
  {
   "cell_type": "code",
   "execution_count": 13,
   "id": "de877a23",
   "metadata": {},
   "outputs": [],
   "source": [
    "# Model Training"
   ]
  },
  {
   "cell_type": "code",
   "execution_count": 14,
   "id": "c63ae1d6",
   "metadata": {},
   "outputs": [],
   "source": [
    "#1 Split the data (stratify too)"
   ]
  },
  {
   "cell_type": "code",
   "execution_count": 15,
   "id": "6d0a2968",
   "metadata": {},
   "outputs": [],
   "source": [
    "#2 K Nearnest Neighbors"
   ]
  },
  {
   "cell_type": "code",
   "execution_count": 16,
   "id": "8287120f",
   "metadata": {},
   "outputs": [],
   "source": [
    "#3 Decision Tree"
   ]
  },
  {
   "cell_type": "code",
   "execution_count": 17,
   "id": "713e5a46",
   "metadata": {},
   "outputs": [],
   "source": [
    "#4 Linear Regression"
   ]
  },
  {
   "cell_type": "code",
   "execution_count": 18,
   "id": "113ab3f0",
   "metadata": {},
   "outputs": [],
   "source": [
    "#5 Support Vector Machines"
   ]
  },
  {
   "cell_type": "code",
   "execution_count": 19,
   "id": "376bf72c",
   "metadata": {},
   "outputs": [],
   "source": [
    "#6 Artificial Neural Networks"
   ]
  },
  {
   "cell_type": "code",
   "execution_count": null,
   "id": "279f317e",
   "metadata": {},
   "outputs": [],
   "source": []
  }
 ],
 "metadata": {
  "kernelspec": {
   "display_name": "Python 3 (ipykernel)",
   "language": "python",
   "name": "python3"
  },
  "language_info": {
   "codemirror_mode": {
    "name": "ipython",
    "version": 3
   },
   "file_extension": ".py",
   "mimetype": "text/x-python",
   "name": "python",
   "nbconvert_exporter": "python",
   "pygments_lexer": "ipython3",
   "version": "3.11.4"
  }
 },
 "nbformat": 4,
 "nbformat_minor": 5
}
