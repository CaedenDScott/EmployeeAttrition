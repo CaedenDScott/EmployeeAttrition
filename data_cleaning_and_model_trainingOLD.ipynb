{
 "cells": [
  {
   "cell_type": "code",
   "execution_count": 276,
   "id": "5319af22",
   "metadata": {},
   "outputs": [],
   "source": [
    "import pandas as pd\n",
    "import numpy as np\n",
    "from sklearn.model_selection import train_test_split\n",
    "data = pd.read_csv('HR-Employee-Attrition.csv')\n",
    "\n",
    "#@######### Testing ####################\n",
    "# Downsample test\n",
    "# yes_records = data[data['Attrition'] == 'Yes']\n",
    "# no_records = data[data['Attrition'] == 'No']\n",
    "\n",
    "# # adapted from https://wellsr.com/python/upsampling-and-downsampling-imbalanced-data-in-python/\n",
    "# from sklearn.utils import resample\n",
    "# print(no_records.shape)\n",
    "# downsample_no = resample(no_records,\n",
    "#              replace=True,\n",
    "#              n_samples=len(yes_records),\n",
    "#              random_state=39)\n",
    "# print(downsample_no.shape)\n",
    "# data = pd.concat([yes_records, downsample_no])\n",
    "# print(data.shape)\n",
    "########################################\n",
    "\n",
    "data_classification = data[['Attrition']]\n",
    "data_values = data.loc[:, data.columns != \"Attrition\"]\n",
    "data_train, data_test, labels_train, labels_test = train_test_split(data_values, data_classification, test_size=0.2, random_state=35)\n",
    "stratify=data_classification"
   ]
  },
  {
   "cell_type": "code",
   "execution_count": null,
   "id": "299be208",
   "metadata": {},
   "outputs": [],
   "source": []
  },
  {
   "cell_type": "code",
   "execution_count": 277,
   "id": "fa621900",
   "metadata": {},
   "outputs": [],
   "source": [
    "# Data Cleaning\n",
    "\n",
    "#1 Convert text data to numerical\n",
    "\n",
    "from sklearn.preprocessing import LabelEncoder\n",
    "\n",
    "encoder = LabelEncoder() # since all the non-numerical features are categorical, it should be safe to use label encoding\n",
    "\n",
    "labels_train['Attrition'] = encoder.fit_transform(labels_train['Attrition'])\n",
    "labels_test['Attrition'] = encoder.transform(labels_test['Attrition']) # don't fit encoder with testing labels, but transform testing labels with same fitted encoder\n",
    "\n",
    "features_to_encode = ['BusinessTravel', 'Department', 'EducationField', 'Gender', 'JobRole', 'MaritalStatus', 'Over18', 'OverTime']\n",
    "for feature in features_to_encode:\n",
    "    data_train[feature] = encoder.fit_transform(data_train[feature])\n",
    "    data_test[feature] = encoder.transform(data_test[feature]) # don't fit encoder with testing data, but transform testing data with same fitted encoder"
   ]
  },
  {
   "cell_type": "code",
   "execution_count": 278,
   "id": "8f10ea56",
   "metadata": {},
   "outputs": [],
   "source": [
    "#1 upsample attrition \"yes\" rows to match number of \"no\" rows\n",
    "\n",
    "# pip install imbalanced-learn\n",
    "from imblearn.over_sampling import SMOTE # downgrade scikit-learn to 1.2.x for this to work\n",
    "# print(data_train.shape)\n",
    "# print(len(labels_train['Attrition']))\n",
    "# print(labels_train['Attrition'].value_counts())\n",
    "# print(data_train.shape)\n",
    "# print('-----')\n",
    "upsampler = SMOTE(random_state=39) ####### KEEP if not using downsampling\n",
    "data_train, labels_train = upsampler.fit_resample(data_train, labels_train) ###### KEEP if not using downsampling\n",
    "# data_test, labels_test = upsampler.fit_resample(data_test, labels_test) # TURN BACK ON, ask Dr. Alferez if we should upsample training set like here\n",
    "# print(data_train.shape)\n",
    "# print(len(labels_train['Attrition']))\n",
    "# print(labels_train['Attrition'].value_counts()[0])\n",
    "# print(data_train.shape)\n",
    "\n",
    "#upsampled the training data above, now downsample testing data so that it's not being tampered with.\n",
    "# dev note: method ^^\n",
    "from sklearn.utils import resample\n",
    "testing_merged = labels_test.join(data_test)\n",
    "# print(training_merged[:16]) # PROBLEM: i dont' think these joined properly on index\n",
    "testing_no = testing_merged[testing_merged['Attrition'] == 0] # no attrition\n",
    "testing_yes = testing_merged[testing_merged['Attrition'] == 1] # attrition\n",
    "testing_no_ds = resample(testing_no, replace=True, n_samples=len(testing_yes), random_state=39)\n",
    "test_ds = pd.concat([testing_no_ds, testing_yes]) # all fields, downsampled\n",
    "labels_test = test_ds['Attrition'].to_frame()\n",
    "data_test = test_ds.loc[:, test_ds.columns != \"Attrition\"]\n",
    "\n",
    "# upsampling with sklearn, copies\n",
    "# adapted from https://wellsr.com/python/upsampling-and-downsampling-imbalanced-data-in-python/\n",
    "from sklearn.utils import resample\n",
    "# downsampling doesn't require numerical data, so let's do it before splitting all the data so we don't have to do a bunch of finaggling\n",
    "\n",
    "# spam_upsample = resample(spam_messages, replace=True, n_samples=len(labels_train['Attrition'].value_counts()[0]), random_state=39)\n",
    "# print(spam_upsample.shape)"
   ]
  },
  {
   "cell_type": "code",
   "execution_count": 279,
   "id": "0a7b1105",
   "metadata": {},
   "outputs": [],
   "source": [
    "#2 Feature Selection\n",
    "\n",
    "from sklearn.feature_selection import SelectKBest, chi2\n",
    "\n",
    "feature_selector = SelectKBest(chi2, k=14) # drop the 4 features that have the lowest correlation with the answer\n",
    "data_train_selected = feature_selector.fit_transform(data_train, labels_train)\n",
    "data_test_selected = feature_selector.transform(data_test)"
   ]
  },
  {
   "cell_type": "code",
   "execution_count": 280,
   "id": "b7cf0d54",
   "metadata": {},
   "outputs": [],
   "source": [
    "#3 Normalize\n",
    "\n",
    "from sklearn.preprocessing import StandardScaler\n",
    "\n",
    "normalize_scaler = StandardScaler() \n",
    "# data_normalized = normalize_scaler.fit_transform(data_values_selected, np.ravel(data_classification))\n",
    "data_train_clean = normalize_scaler.fit_transform(data_train_selected, labels_train)\n",
    "data_test_clean = normalize_scaler.transform(data_test_selected)"
   ]
  },
  {
   "cell_type": "code",
   "execution_count": 281,
   "id": "de877a23",
   "metadata": {},
   "outputs": [],
   "source": [
    "# Model Training\n",
    "# Note: Most of this model training/evaluation code was adapted from another lab"
   ]
  },
  {
   "cell_type": "code",
   "execution_count": 282,
   "id": "6d0a2968",
   "metadata": {
    "scrolled": true
   },
   "outputs": [
    {
     "name": "stdout",
     "output_type": "stream",
     "text": [
      "K Nearest Neighbors\n",
      "\n",
      "              precision    recall  f1-score   support\n",
      "\n",
      "          no       0.69      0.70      0.69       256\n",
      "         yes       0.69      0.69      0.69       256\n",
      "\n",
      "    accuracy                           0.69       512\n",
      "   macro avg       0.69      0.69      0.69       512\n",
      "weighted avg       0.69      0.69      0.69       512\n",
      "\n"
     ]
    }
   ],
   "source": [
    "#1 K Nearest Neighbors\n",
    "from sklearn.neighbors import KNeighborsClassifier\n",
    "\n",
    "neigh = KNeighborsClassifier(n_neighbors=3)\n",
    "neigh.fit(data_train_clean, np.ravel(labels_train))\n",
    "\n",
    "from sklearn.metrics import classification_report\n",
    "\n",
    "neighPred = neigh.predict(data_test_clean)\n",
    "neighPred = list(neighPred)\n",
    "\n",
    "target_names = [\"no\", \"yes\"]\n",
    "print(\"K Nearest Neighbors\\n\")\n",
    "print(classification_report(labels_test, neighPred, target_names=target_names))"
   ]
  },
  {
   "cell_type": "code",
   "execution_count": 283,
   "id": "8287120f",
   "metadata": {},
   "outputs": [
    {
     "name": "stdout",
     "output_type": "stream",
     "text": [
      "Decision Tree\n",
      "\n",
      "              precision    recall  f1-score   support\n",
      "\n",
      "          no       0.66      0.73      0.70       256\n",
      "         yes       0.70      0.63      0.66       256\n",
      "\n",
      "    accuracy                           0.68       512\n",
      "   macro avg       0.68      0.68      0.68       512\n",
      "weighted avg       0.68      0.68      0.68       512\n",
      "\n"
     ]
    }
   ],
   "source": [
    "#2 Decision Tree\n",
    "\n",
    "from sklearn import tree\n",
    "\n",
    "dt_classifier = tree.DecisionTreeClassifier()\n",
    "dt_model = dt_classifier.fit(data_train_clean, labels_train)\n",
    "\n",
    "from sklearn.metrics import classification_report\n",
    "\n",
    "target_names = [\"no\", \"yes\"]\n",
    "predicted_labels_dt = dt_model.predict(data_test_clean)\n",
    "print(\"Decision Tree\\n\")\n",
    "print(classification_report(labels_test, predicted_labels_dt, target_names=target_names))"
   ]
  },
  {
   "cell_type": "code",
   "execution_count": 284,
   "id": "713e5a46",
   "metadata": {},
   "outputs": [
    {
     "name": "stdout",
     "output_type": "stream",
     "text": [
      "Linear Regression\n",
      "\n",
      "              precision    recall  f1-score   support\n",
      "\n",
      "          no       0.73      0.72      0.73       256\n",
      "         yes       0.73      0.73      0.73       256\n",
      "\n",
      "    accuracy                           0.73       512\n",
      "   macro avg       0.73      0.73      0.73       512\n",
      "weighted avg       0.73      0.73      0.73       512\n",
      "\n"
     ]
    }
   ],
   "source": [
    "#3 Linear Regression\n",
    "from sklearn.linear_model import LogisticRegression\n",
    "\n",
    "lr_classifier = LogisticRegression(random_state=39, max_iter=1000)\n",
    "lr_model = lr_classifier.fit(data_train_clean, np.ravel(labels_train))\n",
    "\n",
    "from sklearn.metrics import classification_report \n",
    "\n",
    "target_names = [\"no\", \"yes\"]\n",
    "predicted_labels_lr = lr_model.predict(data_test_clean) \n",
    "print(\"Linear Regression\\n\")\n",
    "print(classification_report(labels_test, predicted_labels_lr, target_names=target_names))"
   ]
  },
  {
   "cell_type": "code",
   "execution_count": 285,
   "id": "113ab3f0",
   "metadata": {},
   "outputs": [
    {
     "name": "stdout",
     "output_type": "stream",
     "text": [
      "Support Vector Machines\n",
      "\n",
      "              precision    recall  f1-score   support\n",
      "\n",
      "          no       0.78      0.79      0.79       256\n",
      "         yes       0.79      0.77      0.78       256\n",
      "\n",
      "    accuracy                           0.78       512\n",
      "   macro avg       0.78      0.78      0.78       512\n",
      "weighted avg       0.78      0.78      0.78       512\n",
      "\n"
     ]
    }
   ],
   "source": [
    "#4 Support Vector Machines\n",
    "from sklearn.svm import SVC \n",
    "\n",
    "svc_classifier = SVC()\n",
    "svc_model = svc_classifier.fit(data_train_clean, np.ravel(labels_train))\n",
    "\n",
    "from sklearn.metrics import classification_report \n",
    "\n",
    "target_names = [\"no\", \"yes\"]\n",
    "predicted_labels_svc = svc_model.predict(data_test_clean) \n",
    "print(\"Support Vector Machines\\n\")\n",
    "print(classification_report(labels_test, predicted_labels_svc, target_names=target_names))"
   ]
  },
  {
   "cell_type": "code",
   "execution_count": 286,
   "id": "376bf72c",
   "metadata": {},
   "outputs": [
    {
     "name": "stdout",
     "output_type": "stream",
     "text": [
      "Artificial Neural Networks\n",
      "\n",
      "              precision    recall  f1-score   support\n",
      "\n",
      "          no       0.68      0.80      0.74       256\n",
      "         yes       0.76      0.63      0.69       256\n",
      "\n",
      "    accuracy                           0.71       512\n",
      "   macro avg       0.72      0.71      0.71       512\n",
      "weighted avg       0.72      0.71      0.71       512\n",
      "\n"
     ]
    },
    {
     "name": "stderr",
     "output_type": "stream",
     "text": [
      "/Users/allengustrowsky/anaconda3/lib/python3.11/site-packages/sklearn/neural_network/_multilayer_perceptron.py:686: ConvergenceWarning: Stochastic Optimizer: Maximum iterations (700) reached and the optimization hasn't converged yet.\n",
      "  warnings.warn(\n"
     ]
    }
   ],
   "source": [
    "#5 Artificial Neural Networks\n",
    "from sklearn.neural_network import MLPClassifier \n",
    "import numpy as np\n",
    "\n",
    "mlp_classifier = MLPClassifier(random_state=39, activation='tanh', max_iter=700) # with 30 features use 500\n",
    "mlp_model = mlp_classifier.fit(data_train_clean, np.ravel(labels_train))\n",
    "\n",
    "from sklearn.metrics import classification_report\n",
    "\n",
    "target_names = [\"no\", \"yes\"]\n",
    "predicted_labels_mlp = mlp_model.predict(data_test_clean)\n",
    "print(\"Artificial Neural Networks\\n\")\n",
    "print(classification_report(labels_test, predicted_labels_mlp, target_names=target_names))"
   ]
  },
  {
   "cell_type": "code",
   "execution_count": 287,
   "id": "caa042c3",
   "metadata": {},
   "outputs": [],
   "source": [
    "#TODO: put numbering in order for data cleaning\n",
    "# remove old comments\n",
    "# how to submit the updated version to eclass?"
   ]
  },
  {
   "cell_type": "code",
   "execution_count": null,
   "id": "55caa5cd",
   "metadata": {},
   "outputs": [],
   "source": []
  }
 ],
 "metadata": {
  "kernelspec": {
   "display_name": "Python 3 (ipykernel)",
   "language": "python",
   "name": "python3"
  },
  "language_info": {
   "codemirror_mode": {
    "name": "ipython",
    "version": 3
   },
   "file_extension": ".py",
   "mimetype": "text/x-python",
   "name": "python",
   "nbconvert_exporter": "python",
   "pygments_lexer": "ipython3",
   "version": "3.11.4"
  }
 },
 "nbformat": 4,
 "nbformat_minor": 5
}
